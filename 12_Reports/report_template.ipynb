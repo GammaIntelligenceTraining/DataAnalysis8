{
 "cells": [
  {
   "cell_type": "code",
   "execution_count": 1,
   "id": "dab05bc7-2653-4613-8205-1a540ee69c2b",
   "metadata": {},
   "outputs": [],
   "source": [
    "import pandas as pd\n",
    "import plotly.express as px"
   ]
  },
  {
   "cell_type": "code",
   "execution_count": 2,
   "id": "51661461-3938-439a-ad4b-355e7efdbb12",
   "metadata": {},
   "outputs": [
    {
     "data": {
      "text/html": [
       "<div>\n",
       "<style scoped>\n",
       "    .dataframe tbody tr th:only-of-type {\n",
       "        vertical-align: middle;\n",
       "    }\n",
       "\n",
       "    .dataframe tbody tr th {\n",
       "        vertical-align: top;\n",
       "    }\n",
       "\n",
       "    .dataframe thead th {\n",
       "        text-align: right;\n",
       "    }\n",
       "</style>\n",
       "<table border=\"1\" class=\"dataframe\">\n",
       "  <thead>\n",
       "    <tr style=\"text-align: right;\">\n",
       "      <th></th>\n",
       "      <th>Country</th>\n",
       "      <th>Firstname</th>\n",
       "      <th>Lastname</th>\n",
       "      <th>Sex</th>\n",
       "      <th>Age</th>\n",
       "      <th>Category</th>\n",
       "      <th>Survived</th>\n",
       "    </tr>\n",
       "    <tr>\n",
       "      <th>PassengerId</th>\n",
       "      <th></th>\n",
       "      <th></th>\n",
       "      <th></th>\n",
       "      <th></th>\n",
       "      <th></th>\n",
       "      <th></th>\n",
       "      <th></th>\n",
       "    </tr>\n",
       "  </thead>\n",
       "  <tbody>\n",
       "    <tr>\n",
       "      <th>1</th>\n",
       "      <td>Sweden</td>\n",
       "      <td>ARVID KALLE</td>\n",
       "      <td>AADLI</td>\n",
       "      <td>M</td>\n",
       "      <td>62</td>\n",
       "      <td>P</td>\n",
       "      <td>0</td>\n",
       "    </tr>\n",
       "    <tr>\n",
       "      <th>2</th>\n",
       "      <td>Estonia</td>\n",
       "      <td>LEA</td>\n",
       "      <td>AALISTE</td>\n",
       "      <td>F</td>\n",
       "      <td>22</td>\n",
       "      <td>C</td>\n",
       "      <td>0</td>\n",
       "    </tr>\n",
       "    <tr>\n",
       "      <th>3</th>\n",
       "      <td>Estonia</td>\n",
       "      <td>AIRI</td>\n",
       "      <td>AAVASTE</td>\n",
       "      <td>F</td>\n",
       "      <td>21</td>\n",
       "      <td>C</td>\n",
       "      <td>0</td>\n",
       "    </tr>\n",
       "    <tr>\n",
       "      <th>4</th>\n",
       "      <td>Sweden</td>\n",
       "      <td>JURI</td>\n",
       "      <td>AAVIK</td>\n",
       "      <td>M</td>\n",
       "      <td>53</td>\n",
       "      <td>C</td>\n",
       "      <td>0</td>\n",
       "    </tr>\n",
       "    <tr>\n",
       "      <th>5</th>\n",
       "      <td>Sweden</td>\n",
       "      <td>BRITTA ELISABET</td>\n",
       "      <td>AHLSTROM</td>\n",
       "      <td>F</td>\n",
       "      <td>55</td>\n",
       "      <td>P</td>\n",
       "      <td>0</td>\n",
       "    </tr>\n",
       "    <tr>\n",
       "      <th>...</th>\n",
       "      <td>...</td>\n",
       "      <td>...</td>\n",
       "      <td>...</td>\n",
       "      <td>...</td>\n",
       "      <td>...</td>\n",
       "      <td>...</td>\n",
       "      <td>...</td>\n",
       "    </tr>\n",
       "    <tr>\n",
       "      <th>985</th>\n",
       "      <td>Sweden</td>\n",
       "      <td>ANNA INGRID BIRGITTA</td>\n",
       "      <td>OSTROM</td>\n",
       "      <td>F</td>\n",
       "      <td>60</td>\n",
       "      <td>P</td>\n",
       "      <td>0</td>\n",
       "    </tr>\n",
       "    <tr>\n",
       "      <th>986</th>\n",
       "      <td>Sweden</td>\n",
       "      <td>ELMAR MIKAEL</td>\n",
       "      <td>OUN</td>\n",
       "      <td>M</td>\n",
       "      <td>34</td>\n",
       "      <td>P</td>\n",
       "      <td>1</td>\n",
       "    </tr>\n",
       "    <tr>\n",
       "      <th>987</th>\n",
       "      <td>Sweden</td>\n",
       "      <td>ENN</td>\n",
       "      <td>QUNAPUU</td>\n",
       "      <td>M</td>\n",
       "      <td>77</td>\n",
       "      <td>P</td>\n",
       "      <td>0</td>\n",
       "    </tr>\n",
       "    <tr>\n",
       "      <th>988</th>\n",
       "      <td>Sweden</td>\n",
       "      <td>LY</td>\n",
       "      <td>GUNAPUU</td>\n",
       "      <td>F</td>\n",
       "      <td>87</td>\n",
       "      <td>P</td>\n",
       "      <td>0</td>\n",
       "    </tr>\n",
       "    <tr>\n",
       "      <th>989</th>\n",
       "      <td>Sweden</td>\n",
       "      <td>CARL</td>\n",
       "      <td>OVBERG</td>\n",
       "      <td>M</td>\n",
       "      <td>42</td>\n",
       "      <td>P</td>\n",
       "      <td>1</td>\n",
       "    </tr>\n",
       "  </tbody>\n",
       "</table>\n",
       "<p>989 rows × 7 columns</p>\n",
       "</div>"
      ],
      "text/plain": [
       "             Country             Firstname  Lastname Sex  Age Category  \\\n",
       "PassengerId                                                              \n",
       "1             Sweden           ARVID KALLE     AADLI   M   62        P   \n",
       "2            Estonia                   LEA   AALISTE   F   22        C   \n",
       "3            Estonia                  AIRI   AAVASTE   F   21        C   \n",
       "4             Sweden                  JURI     AAVIK   M   53        C   \n",
       "5             Sweden       BRITTA ELISABET  AHLSTROM   F   55        P   \n",
       "...              ...                   ...       ...  ..  ...      ...   \n",
       "985           Sweden  ANNA INGRID BIRGITTA    OSTROM   F   60        P   \n",
       "986           Sweden          ELMAR MIKAEL       OUN   M   34        P   \n",
       "987           Sweden                   ENN   QUNAPUU   M   77        P   \n",
       "988           Sweden                    LY   GUNAPUU   F   87        P   \n",
       "989           Sweden                  CARL    OVBERG   M   42        P   \n",
       "\n",
       "             Survived  \n",
       "PassengerId            \n",
       "1                   0  \n",
       "2                   0  \n",
       "3                   0  \n",
       "4                   0  \n",
       "5                   0  \n",
       "...               ...  \n",
       "985                 0  \n",
       "986                 1  \n",
       "987                 0  \n",
       "988                 0  \n",
       "989                 1  \n",
       "\n",
       "[989 rows x 7 columns]"
      ]
     },
     "execution_count": 2,
     "metadata": {},
     "output_type": "execute_result"
    }
   ],
   "source": [
    "df = pd.read_csv('Data/estonia-passenger-list.csv', index_col='PassengerId')\n",
    "df"
   ]
  },
  {
   "cell_type": "code",
   "execution_count": 3,
   "id": "160b9ae9-488f-4676-802d-440ed68f58da",
   "metadata": {},
   "outputs": [
    {
     "name": "stdout",
     "output_type": "stream",
     "text": [
      "<class 'pandas.core.frame.DataFrame'>\n",
      "Int64Index: 989 entries, 1 to 989\n",
      "Data columns (total 7 columns):\n",
      " #   Column     Non-Null Count  Dtype \n",
      "---  ------     --------------  ----- \n",
      " 0   Country    989 non-null    object\n",
      " 1   Firstname  989 non-null    object\n",
      " 2   Lastname   989 non-null    object\n",
      " 3   Sex        989 non-null    object\n",
      " 4   Age        989 non-null    int64 \n",
      " 5   Category   989 non-null    object\n",
      " 6   Survived   989 non-null    int64 \n",
      "dtypes: int64(2), object(5)\n",
      "memory usage: 61.8+ KB\n"
     ]
    }
   ],
   "source": [
    "df.info()"
   ]
  },
  {
   "cell_type": "markdown",
   "id": "dc80d022-df81-4763-89d4-b3b84b81cfd6",
   "metadata": {},
   "source": [
    "### 1. Visualize and analize passengers by countries"
   ]
  },
  {
   "cell_type": "markdown",
   "id": "586636da-6720-4ab1-bd8e-b3e943aed261",
   "metadata": {},
   "source": [
    "### 2. Visualize and analyze passengers by gender and age"
   ]
  },
  {
   "cell_type": "markdown",
   "id": "37d433b0-bc2e-43a1-9738-f44e8b7e16fd",
   "metadata": {},
   "source": [
    "### 3. Group age and make final plot"
   ]
  },
  {
   "cell_type": "markdown",
   "id": "ab6e5af7-e8b5-4720-9430-92b516663668",
   "metadata": {},
   "source": [
    "### 4. Visualize conclusions"
   ]
  },
  {
   "cell_type": "markdown",
   "id": "3ed9b55a-d813-473b-a549-3281abec0bb0",
   "metadata": {},
   "source": [
    "### 5. Text variables"
   ]
  },
  {
   "cell_type": "code",
   "execution_count": 53,
   "id": "2995bda8-ee08-4c04-9e4d-12107ca4c671",
   "metadata": {},
   "outputs": [],
   "source": [
    "history = '''MS Estonia was a cruiseferry built in 1979/80 at the German shipyard Meyer Werft in Papenburg. The ship's 1994 sinking, in the Baltic Sea between Sweden, Åland, Finland and Estonia, was one of the worst maritime disasters of the 20th century. It is the second-deadliest peacetime sinking of a European ship, after the RMS Titanic, and the deadliest peacetime shipwreck to have occurred in European waters, with 852 lives lost. At 6.30pm on 27 September 1994, the ferry MS Estonia – the largest ship then flying the flag of the young Baltic republic, and a symbol of recently regained independence – set sail from Tallinn on a routine overnight crossing to Stockholm. On board were 803 passengers, most of them Swedish, and 186 crew, most of them Estonian. The conditions were rough – force 8 winds and waves up to 6 metres – but not unusual for the Baltic Sea in autumn. All other scheduled ferries were at sea.'''\n",
    "\n",
    "country_conc = '''Here we can see that most of passengers were from baltic and scandinavian countries and most of crew were from Estonia, Sweden, Russia and Finland. On the sunburst chart the colorbar represents percent of survivors for every country.'''\n",
    "\n",
    "age_conc = '''There were just about equal males and females on board. Also we can see that average age of passengers was much higher then average age of crew. The country with significant number of passengers and highest mean age is Sweden.'''\n",
    "\n",
    "final_conc = '''On the plot above we can compare the number of survivals dependent on their category (passenger/crew), age group and gender. Most survived passengers as well as crew were men 19-45 years old. In opposite, almost nobody survived in age group more then 60 y.o. To descry a correlation between age and chance of survive we can plot two bar charts: everage age per country and percent of survivals per country. Countries with less then 4 persons on board are not taken into account as non-significant.'''\n",
    "\n",
    "country_compare = '''We can approve that the higher average age was - the less representatives of a country survived but here we have some exceptions like Germany, Finland and Estonia.''' "
   ]
  }
 ],
 "metadata": {
  "kernelspec": {
   "display_name": "Python 3 (ipykernel)",
   "language": "python",
   "name": "python3"
  },
  "language_info": {
   "codemirror_mode": {
    "name": "ipython",
    "version": 3
   },
   "file_extension": ".py",
   "mimetype": "text/x-python",
   "name": "python",
   "nbconvert_exporter": "python",
   "pygments_lexer": "ipython3",
   "version": "3.12.1"
  }
 },
 "nbformat": 4,
 "nbformat_minor": 5
}
