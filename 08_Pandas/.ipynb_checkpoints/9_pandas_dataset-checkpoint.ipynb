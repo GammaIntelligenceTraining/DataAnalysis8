{
 "cells": [
  {
   "cell_type": "code",
   "execution_count": 1,
   "id": "d632393b-4b86-4e4c-88b9-262f1e3c5055",
   "metadata": {},
   "outputs": [],
   "source": [
    "import numpy as np\n",
    "import pandas as pd"
   ]
  },
  {
   "cell_type": "markdown",
   "id": "3453f034-7de6-445d-a720-a05bea29150c",
   "metadata": {},
   "source": [
    "### 1. How many people of each race are represented?"
   ]
  },
  {
   "cell_type": "markdown",
   "id": "d114ddba-d786-4a08-9185-cb671fc6472b",
   "metadata": {},
   "source": [
    "### 2. What is the average age of men?"
   ]
  },
  {
   "cell_type": "markdown",
   "id": "c70d5ad9-da53-41ef-8ade-51cca6040ca6",
   "metadata": {},
   "source": [
    "### 3. What is the percentage of people who have a Bachelor's degree?"
   ]
  },
  {
   "cell_type": "markdown",
   "id": "177e82f4-f8ac-4129-a173-04bcfee637a8",
   "metadata": {},
   "source": [
    "### 4. What percentage of people with advanced education (Bachelors, Masters or Doctorate) make more than 50K?"
   ]
  },
  {
   "cell_type": "markdown",
   "id": "078e075c-4b14-4ef3-bcab-a2117eb4608c",
   "metadata": {},
   "source": [
    "### 5. What percentage of people without advanced education make more than 50K?"
   ]
  },
  {
   "cell_type": "markdown",
   "id": "465311a0-fe34-4c9b-be42-740a77b80fd9",
   "metadata": {},
   "source": [
    "### 6. What is the minimum number of hours a person works per week?"
   ]
  },
  {
   "cell_type": "markdown",
   "id": "4999f890-66f5-411b-a3f3-dbed77df125c",
   "metadata": {},
   "source": [
    "### 7. What percentage of the people who work the minimum number of hours per week have a salary of more than 50K?"
   ]
  },
  {
   "cell_type": "markdown",
   "id": "106e0bc1-a0c6-43e4-8f60-6bbce0e5e4bc",
   "metadata": {},
   "source": [
    "### 8. People from which native country have the highest percentage of those who earn >50K and what is that percentage?"
   ]
  },
  {
   "cell_type": "markdown",
   "id": "852d3f3e-8783-46cb-9c9d-e9a3ae6e1442",
   "metadata": {},
   "source": [
    "### 9. What is the most popular occupation for those who are originated from India and earn >50K?"
   ]
  }
 ],
 "metadata": {
  "kernelspec": {
   "display_name": "Python 3 (ipykernel)",
   "language": "python",
   "name": "python3"
  },
  "language_info": {
   "codemirror_mode": {
    "name": "ipython",
    "version": 3
   },
   "file_extension": ".py",
   "mimetype": "text/x-python",
   "name": "python",
   "nbconvert_exporter": "python",
   "pygments_lexer": "ipython3",
   "version": "3.10.7"
  }
 },
 "nbformat": 4,
 "nbformat_minor": 5
}
