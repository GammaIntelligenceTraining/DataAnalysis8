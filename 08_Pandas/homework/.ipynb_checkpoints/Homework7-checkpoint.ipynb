{
 "cells": [
  {
   "cell_type": "code",
   "execution_count": 2,
   "id": "1a9ed60a-a54d-41cc-8b6c-890c0094d35a",
   "metadata": {},
   "outputs": [],
   "source": [
    "import numpy as np\n",
    "import pandas as pd"
   ]
  },
  {
   "cell_type": "code",
   "execution_count": 3,
   "id": "ba304501-b5e9-4c40-88ad-d76ea4d51846",
   "metadata": {},
   "outputs": [],
   "source": [
    "df = pd.read_csv('baltics_dividends.csv')"
   ]
  },
  {
   "cell_type": "markdown",
   "id": "f25692a5-7a2f-41d3-a934-0829544abcc3",
   "metadata": {},
   "source": [
    "**1. Set the column ticker as a new index of the DataFrame**"
   ]
  },
  {
   "cell_type": "markdown",
   "id": "187eb1d2-8202-4ef3-9c13-0a6e86a7be55",
   "metadata": {},
   "source": [
    "**2. Show the correlation matrix. Which feature mostly correlated with dividend_max?**"
   ]
  },
  {
   "cell_type": "markdown",
   "id": "854f4672-d71e-452f-94de-96bb61352203",
   "metadata": {},
   "source": [
    "**3. Find mean and median of dividend_count column**"
   ]
  },
  {
   "cell_type": "markdown",
   "id": "2dd1f500-4689-4ec5-8ed3-df4ed08ee251",
   "metadata": {},
   "source": [
    "**4. What is the percentage of companies started to pay dividends after year 2018?**"
   ]
  },
  {
   "cell_type": "markdown",
   "id": "074c9c70-657a-4b38-9018-f4505dd3534d",
   "metadata": {},
   "source": [
    "**5. What is the highest price of the latvian companies?**"
   ]
  },
  {
   "cell_type": "markdown",
   "id": "16cc67f8-33ae-4548-a3e4-d83809fc1598",
   "metadata": {},
   "source": [
    "**6. What is the the percentage of estonian companies has price more then third quartile and dividends sum less then 4**"
   ]
  },
  {
   "cell_type": "markdown",
   "id": "736986ca-24f7-46e2-b187-d7b59574010e",
   "metadata": {},
   "source": [
    "**7. Show a DataFrame with tickers, first and last years of dividend payments for companies that have average fair price between 4 and 11**"
   ]
  },
  {
   "cell_type": "markdown",
   "id": "2f09fb10-5f35-4009-b9ee-3a3d6b1bfe36",
   "metadata": {},
   "source": [
    "**8. Replace market values to Estonia, Latvia and Lithuania**"
   ]
  },
  {
   "cell_type": "markdown",
   "id": "805ddd1a-9110-4b0c-8e2c-7049c6e9f94b",
   "metadata": {},
   "source": [
    "**9. Count values of years with dividend payments (total_years) and sort them in ascending order**"
   ]
  },
  {
   "cell_type": "markdown",
   "id": "5ce82265-866a-4511-b031-3602d5eeae19",
   "metadata": {},
   "source": [
    "**10. Create a new column 'dividend_avg' by using dividend_min and dividend_max and insert it after dividend_max column**"
   ]
  },
  {
   "cell_type": "markdown",
   "id": "b63b9908-5e4a-4dd8-8890-dd0f2207771d",
   "metadata": {},
   "source": [
    "**11. Group the DataFrame by market and year of start dividend payment then summate annual payout for every group**"
   ]
  },
  {
   "cell_type": "markdown",
   "id": "91b7891d-1be8-41b3-a130-46cda96d4753",
   "metadata": {},
   "source": [
    "**12. Group DataFrame by market and create a new DataFrame that shows min and max annual payout, mean and median price for every group**"
   ]
  }
 ],
 "metadata": {
  "kernelspec": {
   "display_name": "Python 3 (ipykernel)",
   "language": "python",
   "name": "python3"
  },
  "language_info": {
   "codemirror_mode": {
    "name": "ipython",
    "version": 3
   },
   "file_extension": ".py",
   "mimetype": "text/x-python",
   "name": "python",
   "nbconvert_exporter": "python",
   "pygments_lexer": "ipython3",
   "version": "3.12.1"
  }
 },
 "nbformat": 4,
 "nbformat_minor": 5
}
