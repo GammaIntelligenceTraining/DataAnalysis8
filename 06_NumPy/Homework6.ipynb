{
 "cells": [
  {
   "cell_type": "code",
   "execution_count": 1,
   "id": "0ec140a6-a94a-4808-92c6-9c2397df5444",
   "metadata": {},
   "outputs": [],
   "source": [
    "import numpy as np"
   ]
  },
  {
   "cell_type": "code",
   "execution_count": 2,
   "id": "a9fc882b-5867-4ba4-a8c8-7ca887a04b19",
   "metadata": {},
   "outputs": [],
   "source": [
    "# Create a numpy matrix of 3*2 float numbers, filled with ones\n"
   ]
  },
  {
   "cell_type": "code",
   "execution_count": 3,
   "id": "d60ca024-1106-4a4a-b119-2dd5b9a8f220",
   "metadata": {},
   "outputs": [],
   "source": [
    "# Given the X numpy array, create a new numpy array with the same shape and type as X, filled with sevens\n",
    "X = np.array([[[8, 3, 16, 2], [14, 7, 12, 0]], [[3, 15, 0, 1], [2, 8, 3, -4]]], dtype='complex')\n"
   ]
  },
  {
   "cell_type": "code",
   "execution_count": 1,
   "id": "afe2953e-7918-4f9a-9d23-7c3229bd59ca",
   "metadata": {},
   "outputs": [],
   "source": [
    "# Create a 3*3*3 numpy matrix filled with random integer values between 1 and 10\n"
   ]
  },
  {
   "cell_type": "code",
   "execution_count": 5,
   "id": "28d8bd6a-6f5a-4166-ac97-ed82370c57ad",
   "metadata": {},
   "outputs": [],
   "source": [
    "# Create a numpy array with the odd numbers from 1 to 10, in descending order\n"
   ]
  },
  {
   "cell_type": "code",
   "execution_count": 6,
   "id": "6be94c91-01c4-483f-91d1-11e5b7c871c8",
   "metadata": {},
   "outputs": [],
   "source": [
    "# Create a 3*3 numpy matrix, filled with values ranging from 0 to 8\n"
   ]
  },
  {
   "cell_type": "code",
   "execution_count": 7,
   "id": "2c754b76-ede6-4339-9cc8-17a87754d855",
   "metadata": {},
   "outputs": [],
   "source": [
    "# Given the X numpy matrix, show the first two elements on the first two rows\n",
    "X = np.array([\n",
    "    [1,   2,  3,  4],\n",
    "    [5,   6,  7,  8],\n",
    "    [9,  10, 11, 12],\n",
    "    [13, 14, 15, 16]\n",
    "])\n"
   ]
  },
  {
   "cell_type": "code",
   "execution_count": 8,
   "id": "db9b23bb-602a-4ee7-b16f-ad9e04de028f",
   "metadata": {},
   "outputs": [],
   "source": [
    "# Given the X numpy matrix, change the last item on the last row with a 0\n",
    "X = np.array([\n",
    "    [1,   2,  3,  4],\n",
    "    [5,   6,  7,  8],\n",
    "    [9,  10, 11, 12],\n",
    "    [13, 14, 15, 16]\n",
    "])\n"
   ]
  },
  {
   "cell_type": "code",
   "execution_count": 9,
   "id": "8470e900-de72-42d0-8665-9a9fb6b88d90",
   "metadata": {},
   "outputs": [],
   "source": [
    "# Given the X numpy array, get numbers higher than the elements mean\n",
    "X = np.array([-1, 2, 0, -4, 5, 6, 0, 0, -9, 10])\n"
   ]
  },
  {
   "cell_type": "code",
   "execution_count": 10,
   "id": "4b21c931-f0dc-4f5c-bfab-8cdae297c5c6",
   "metadata": {},
   "outputs": [],
   "source": [
    "# Given the X numpy matrix, get the odd numbers higher than the elements mean, but not including 15\n",
    "X = np.array([\n",
    "    [1,   2,  3,  4],\n",
    "    [5,   6,  7,  8],\n",
    "    [9,  10, 11, 12],\n",
    "    [13, 14, 15, 16]\n",
    "])\n"
   ]
  }
 ],
 "metadata": {
  "kernelspec": {
   "display_name": "Python 3 (ipykernel)",
   "language": "python",
   "name": "python3"
  },
  "language_info": {
   "codemirror_mode": {
    "name": "ipython",
    "version": 3
   },
   "file_extension": ".py",
   "mimetype": "text/x-python",
   "name": "python",
   "nbconvert_exporter": "python",
   "pygments_lexer": "ipython3",
   "version": "3.10.7"
  }
 },
 "nbformat": 4,
 "nbformat_minor": 5
}
